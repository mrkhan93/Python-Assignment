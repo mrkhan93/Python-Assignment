{
 "cells": [
  {
   "cell_type": "code",
   "execution_count": 4,
   "metadata": {},
   "outputs": [
    {
     "name": "stdout",
     "output_type": "stream",
     "text": [
      "Select Operation to Perform : \n",
      "1.Addition\n",
      "2.Subtraction\n",
      "3.Division\n",
      "4.Multiplication\n",
      "5.Power\n",
      "\n",
      "Input Operation Code\t5\n",
      "Enter First Number\t2\n",
      "Enter Second Number\t3\n",
      "8\n"
     ]
    }
   ],
   "source": [
    "print(\"Select Operation to Perform : \\n1.Addition\\n2.Subtraction\\n3.Division\\n4.Multiplication\\n5.Power\")\n",
    "op = input(\"\\nInput Operation Code\\t\")\n",
    "\n",
    "num1 = int(input(\"Enter First Number\\t\"))\n",
    "num2 = int(input(\"Enter Second Number\\t\"))\n",
    "\n",
    "\n",
    "if op == \"1\":\n",
    "    print(num1+num2)\n",
    "elif op == \"2\":\n",
    "    print(num1-num2)\n",
    "elif op == \"3\":\n",
    "    print(num1/num2)\n",
    "elif op == \"4\":\n",
    "    print(num1*num2)\n",
    "elif op == \"5\":\n",
    "    print(num1**num2)\n",
    "else:\n",
    "    print(\"No operation exist with this number\")\n",
    "    \n",
    "    "
   ]
  },
  {
   "cell_type": "code",
   "execution_count": 11,
   "metadata": {},
   "outputs": [
    {
     "name": "stdout",
     "output_type": "stream",
     "text": [
      "It has Number 3\n",
      "It has Number 5\n",
      "It has Number 6\n"
     ]
    }
   ],
   "source": [
    "list = ['ali','3','shehbaz','5','zubair','6']\n",
    "for i in list:\n",
    "    if i.isdigit():\n",
    "        print(\"It has Number\",i)"
   ]
  },
  {
   "cell_type": "code",
   "execution_count": 17,
   "metadata": {},
   "outputs": [
    {
     "name": "stdout",
     "output_type": "stream",
     "text": [
      "Input key\tclass\n",
      "Input Value\tpython\n",
      "{'Name': 'Abdul Sammad Khan', 'Ocupation': 'Student', 'class': 'python'}\n"
     ]
    }
   ],
   "source": [
    "d = {\n",
    "    \"Name\" : \"Abdul Sammad Khan\",\n",
    "    \"Ocupation\" : \"Student\"\n",
    "}\n",
    "\n",
    "key =input(\"Input key\\t\")\n",
    "val = input(\"Input Value\\t\")\n",
    "\n",
    "d.update({key:val})\n",
    "\n",
    "print(d)"
   ]
  },
  {
   "cell_type": "code",
   "execution_count": 30,
   "metadata": {},
   "outputs": [
    {
     "name": "stdout",
     "output_type": "stream",
     "text": [
      "12\n"
     ]
    }
   ],
   "source": [
    "job_experience={\n",
    "    \"com1\": 3, \n",
    "    \"com2\": 4,\n",
    "    \"com3\": 5\n",
    "}\n",
    "\n",
    "print(sum(job_experience.values()))"
   ]
  },
  {
   "cell_type": "code",
   "execution_count": 5,
   "metadata": {},
   "outputs": [
    {
     "name": "stdout",
     "output_type": "stream",
     "text": [
      "Duplicate Numbers are: ['2', '4', '3', '2']\n"
     ]
    }
   ],
   "source": [
    "list = ['1','2','3','4','5','2','4','3','2','6']\n",
    "list2 = []\n",
    "dup = []\n",
    "\n",
    "for i in list:\n",
    "    if i not in list2:\n",
    "        list2.append(i)\n",
    "    elif i in list2:\n",
    "        dup.append(i)\n",
    "        \n",
    "print(\"Duplicate Numbers are:\", dup)\n",
    "    "
   ]
  },
  {
   "cell_type": "code",
   "execution_count": 26,
   "metadata": {},
   "outputs": [
    {
     "name": "stdout",
     "output_type": "stream",
     "text": [
      "Input Key to check\tc\n",
      "This Key already exist in dictionary\n"
     ]
    }
   ],
   "source": [
    "d={\n",
    "    'a': 3, \n",
    "    \"b\": 4,\n",
    "    \"c\": 5\n",
    "}\n",
    "x = input(\"Input Key to check\\t\")\n",
    "if x in d:\n",
    "    print(\"This Key already exist in dictionary\")\n",
    "else:\n",
    "    print(\"This value doesnot exist\")"
   ]
  },
  {
   "cell_type": "code",
   "execution_count": null,
   "metadata": {},
   "outputs": [],
   "source": []
  },
  {
   "cell_type": "code",
   "execution_count": null,
   "metadata": {},
   "outputs": [],
   "source": []
  }
 ],
 "metadata": {
  "kernelspec": {
   "display_name": "Python 3",
   "language": "python",
   "name": "python3"
  },
  "language_info": {
   "codemirror_mode": {
    "name": "ipython",
    "version": 3
   },
   "file_extension": ".py",
   "mimetype": "text/x-python",
   "name": "python",
   "nbconvert_exporter": "python",
   "pygments_lexer": "ipython3",
   "version": "3.7.4"
  }
 },
 "nbformat": 4,
 "nbformat_minor": 2
}
