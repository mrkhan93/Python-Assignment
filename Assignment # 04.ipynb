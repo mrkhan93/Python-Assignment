{
 "cells": [
  {
   "cell_type": "code",
   "execution_count": 1,
   "metadata": {},
   "outputs": [
    {
     "name": "stdout",
     "output_type": "stream",
     "text": [
      "Input First Name\tOwais\n",
      "Input Last Name\tKhan\n",
      "Input Age\t28\n",
      "Input City\tkarachi\n",
      "Input your Qualification\tintermediate\n",
      "{'First Name': 'Owais', 'Last Name': 'Khan', 'Age': '28', 'City': 'karachi', 'Qualification': 'intermediate'}\n",
      "Is this your high Qualification ??? \n",
      "1.Yes\n",
      "2.No Update it\t2\n",
      "\n",
      "Input Your High Qualification\tgraduation\n",
      "\n",
      "Before Deletion {'First Name': 'Owais', 'Last Name': 'Khan', 'Age': '28', 'City': 'karachi', 'Qualification': 'graduation'}\n",
      "\n",
      "After Deletion {'First Name': 'Owais', 'Last Name': 'Khan', 'Age': '28', 'City': 'karachi'}\n"
     ]
    }
   ],
   "source": [
    "d = {}\n",
    "fname = input(\"Input First Name\\t\")\n",
    "lname = input(\"Input Last Name\\t\")\n",
    "age = input(\"Input Age\\t\")\n",
    "cty = input(\"Input City\\t\")\n",
    "qual = input(\"Input your Qualification\\t\")\n",
    "d.update({\"First Name\" : fname , \"Last Name\" : lname , \"Age\" : age , \"City\" : cty, \"Qualification\" : qual})\n",
    "print(d)\n",
    "op = input(\"Is this your high Qualification ??? \\n1.Yes\\n2.No Update it\\t\")\n",
    "\n",
    "if op == '1':\n",
    "    d.update({\"Qualification\" : qual})\n",
    "    print(d)\n",
    "elif op == '2':\n",
    "    qual = input(\"\\nInput Your High Qualification\\t\")\n",
    "    d.update({\"Qualification\" : qual})\n",
    "    print(\"\\nBefore Deletion\", d)\n",
    "\n",
    "d.pop('Qualification', None)\n",
    "print(\"\\nAfter Deletion\", d)"
   ]
  },
  {
   "cell_type": "code",
   "execution_count": 2,
   "metadata": {},
   "outputs": [
    {
     "name": "stdout",
     "output_type": "stream",
     "text": [
      "{'Country': 'Pakistan', 'Population': '14+ Million', 'Fact': '6th Largest City in the World'}\n",
      "{'Country': 'China', 'Population': '21+ Million', 'Fact': 'one of the oldest cities in the world'}\n",
      "{'Country': 'USA', 'Population': '8+ Million', 'Fact': 'Empire State building gets hit by lightning about 23 times per year'}\n",
      "\n",
      " {'Karachi': {'Country': 'Pakistan', 'Population': '14+ Million', 'Fact': '6th Largest City in the World'}, 'Beijing': {'Country': 'China', 'Population': '21+ Million', 'Fact': 'one of the oldest cities in the world'}, 'NYC': {'Country': 'USA', 'Population': '8+ Million', 'Fact': 'Empire State building gets hit by lightning about 23 times per year'}}\n"
     ]
    }
   ],
   "source": [
    "cities = {\n",
    "    'Karachi' : {\"Country\": \"Pakistan\", \"Population\" : \"14+ Million\", \"Fact\": \"6th Largest City in the World\"},\n",
    "    'Beijing' : {\"Country\": \"China\", \"Population\" : \"21+ Million\", \"Fact\": \"one of the oldest cities in the world\"},\n",
    "    'NYC' : {\"Country\": \"USA\", \"Population\" : \"8+ Million\", \"Fact\": \"Empire State building gets hit by lightning about 23 times per year\"}\n",
    "}\n",
    "\n",
    "print(cities['Karachi'])\n",
    "print(cities['Beijing'])\n",
    "print(cities['NYC'])\n",
    "\n",
    "\n",
    "print(\"\\n\",cities)"
   ]
  },
  {
   "cell_type": "code",
   "execution_count": 3,
   "metadata": {},
   "outputs": [
    {
     "name": "stdout",
     "output_type": "stream",
     "text": [
      "Input your age for ticket price\t2\n",
      "Your ticket is Free\n",
      "Input your age for ticket price\t7\n",
      "Ticket Price is $10\n",
      "Input your age for ticket price\t18\n",
      "Ticket Price is $15\n"
     ]
    }
   ],
   "source": [
    "for count in range(0,3):\n",
    "    age = int(input(\"Input your age for ticket price\\t\"))\n",
    "    if age < 3:\n",
    "        print(\"Your ticket is Free\")\n",
    "\n",
    "    elif age > 3 and age < 12:\n",
    "        print(\"Ticket Price is $10\")\n",
    "    \n",
    "    else:\n",
    "        print(\"Ticket Price is $15\")\n",
    "        "
   ]
  },
  {
   "cell_type": "code",
   "execution_count": 4,
   "metadata": {},
   "outputs": [
    {
     "name": "stdout",
     "output_type": "stream",
     "text": [
      "One of my favorite books is Alice in Wonderland\n"
     ]
    }
   ],
   "source": [
    "def favorite_book(title):\n",
    "    print(\"One of my favorite books is \" + title)\n",
    "    \n",
    "favorite_book(\"Alice in Wonderland\")"
   ]
  },
  {
   "cell_type": "code",
   "execution_count": 6,
   "metadata": {},
   "outputs": [
    {
     "name": "stdout",
     "output_type": "stream",
     "text": [
      "Input Number Between 1 to 30\t5\n",
      "\n",
      "You guess the right Number\n",
      "Input Number Between 1 to 30\t7\n",
      "\n",
      "Number is less than the number you guess\t\n",
      "Input Number Between 1 to 30\t3\n",
      "\n",
      "Number is greater than the number you guess\t\n",
      "Your Input is : 3\n",
      "Randome Number is : 5\n"
     ]
    }
   ],
   "source": [
    "import random\n",
    "\n",
    "num = random.randint(1,30)\n",
    "for count in range(0,3):\n",
    "    guess = int(input(\"Input Number Between 1 to 30\\t\"))\n",
    "    if guess == num:\n",
    "        print(\"\\nYou guess the right Number\")\n",
    "    elif guess > num:\n",
    "        print(\"\\nNumber is less than the number you guess\\t\")\n",
    "    elif guess < num:\n",
    "        print(\"\\nNumber is greater than the number you guess\\t\")\n",
    "       \n",
    "print(\"Your Input is :\", guess)\n",
    "print(\"Randome Number is :\", num)\n"
   ]
  },
  {
   "cell_type": "code",
   "execution_count": null,
   "metadata": {},
   "outputs": [],
   "source": []
  }
 ],
 "metadata": {
  "kernelspec": {
   "display_name": "Python 3",
   "language": "python",
   "name": "python3"
  },
  "language_info": {
   "codemirror_mode": {
    "name": "ipython",
    "version": 3
   },
   "file_extension": ".py",
   "mimetype": "text/x-python",
   "name": "python",
   "nbconvert_exporter": "python",
   "pygments_lexer": "ipython3",
   "version": "3.7.4"
  }
 },
 "nbformat": 4,
 "nbformat_minor": 2
}
