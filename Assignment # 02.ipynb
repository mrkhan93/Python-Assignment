{
 "cells": [
  {
   "cell_type": "code",
   "execution_count": 20,
   "metadata": {},
   "outputs": [
    {
     "name": "stdout",
     "output_type": "stream",
     "text": [
      "Input Subject Marks80\n",
      "Input Subject Marks90\n",
      "Input Subject Marks83\n",
      "Input Subject Marks92\n",
      "Input Subject Marks81\n",
      "Congratulation Your Grade is A+\n"
     ]
    }
   ],
   "source": [
    "from array import *\n",
    "sub = array('i',[])\n",
    "total = 0\n",
    "for i in range(5):\n",
    "    sub.append(int(input('Input Subject Marks')))\n",
    "    total = total + sub[i]\n",
    "\n",
    "per = (total/500)* 100\n",
    "\n",
    "if per >=80:\n",
    "    print(\"Congratulation Your Grade is A+\")\n",
    "elif per >=70 and per <80:\n",
    "    print(\"Congratulation Your Grade is A\")\n",
    "elif per >=60 and per <70:\n",
    "    print(\"Congratulation Your Grade is B\")\n",
    "elif per >=50 and per <60:\n",
    "    print(\"Congratulation Your Grade is C\")\n",
    "else:\n",
    "    print(\"Fail\")\n",
    "\n"
   ]
  },
  {
   "cell_type": "code",
   "execution_count": 16,
   "metadata": {},
   "outputs": [
    {
     "name": "stdout",
     "output_type": "stream",
     "text": [
      "Enter Number to Check: 8\n",
      "Input Number is even\n"
     ]
    }
   ],
   "source": [
    "num = int(input(\"Enter Number to Check: \"))\n",
    "\n",
    "if num % 2==0:\n",
    "    print(\"Input Number is even\")\n",
    "else:\n",
    "    print(\"Input Number is odd\")"
   ]
  },
  {
   "cell_type": "code",
   "execution_count": 19,
   "metadata": {},
   "outputs": [
    {
     "name": "stdout",
     "output_type": "stream",
     "text": [
      "11\n"
     ]
    }
   ],
   "source": [
    "a = [1, 1, 2, 3, 5, 8, 13, 21, 34, 55, 89]\n",
    "print(len(a))"
   ]
  },
  {
   "cell_type": "code",
   "execution_count": 23,
   "metadata": {},
   "outputs": [
    {
     "name": "stdout",
     "output_type": "stream",
     "text": [
      "232\n"
     ]
    }
   ],
   "source": [
    "a = [1, 1, 2, 3, 5, 8, 13, 21, 34, 55, 89]\n",
    "print(sum(a))"
   ]
  },
  {
   "cell_type": "code",
   "execution_count": 24,
   "metadata": {},
   "outputs": [
    {
     "name": "stdout",
     "output_type": "stream",
     "text": [
      "89\n"
     ]
    }
   ],
   "source": [
    "a = [1, 1, 2, 3, 5, 8, 13, 21, 34, 55, 89]\n",
    "print(max(a))"
   ]
  },
  {
   "cell_type": "code",
   "execution_count": 26,
   "metadata": {},
   "outputs": [
    {
     "name": "stdout",
     "output_type": "stream",
     "text": [
      "1\n",
      "1\n",
      "2\n",
      "3\n"
     ]
    }
   ],
   "source": [
    "a = [1, 1, 2, 3, 5, 8, 13, 21, 34, 55, 89]\n",
    "for i in a:\n",
    "    if i<5:\n",
    "        print(i)"
   ]
  },
  {
   "cell_type": "code",
   "execution_count": null,
   "metadata": {},
   "outputs": [],
   "source": []
  }
 ],
 "metadata": {
  "kernelspec": {
   "display_name": "Python 3",
   "language": "python",
   "name": "python3"
  },
  "language_info": {
   "codemirror_mode": {
    "name": "ipython",
    "version": 3
   },
   "file_extension": ".py",
   "mimetype": "text/x-python",
   "name": "python",
   "nbconvert_exporter": "python",
   "pygments_lexer": "ipython3",
   "version": "3.7.4"
  }
 },
 "nbformat": 4,
 "nbformat_minor": 2
}
