{
 "cells": [
  {
   "cell_type": "code",
   "execution_count": 1,
   "metadata": {},
   "outputs": [
    {
     "name": "stdout",
     "output_type": "stream",
     "text": [
      "Enter Number to print factorial\t5\n",
      "120\n"
     ]
    }
   ],
   "source": [
    "def fctor(ipt):\n",
    "    if ipt == 0:\n",
    "        return 1\n",
    "    else:\n",
    "        return ipt * fctor(ipt-1)\n",
    "    \n",
    "ipt = int(input(\"Enter Number to print factorial\\t\"))\n",
    "\n",
    "print(fctor(ipt))"
   ]
  },
  {
   "cell_type": "code",
   "execution_count": 7,
   "metadata": {},
   "outputs": [
    {
     "name": "stdout",
     "output_type": "stream",
     "text": [
      "Input text to Calculate no of uppercase and lowecase letter\tPython Programming\n",
      "Number of Upper case letters  2\n",
      "Number of Lower case letters  15\n",
      "None\n"
     ]
    }
   ],
   "source": [
    "def check(text):\n",
    "    up = 0 \n",
    "    low = 0\n",
    "    for i in text:\n",
    "        if i.isupper():\n",
    "           up += 1\n",
    "        elif i.islower():\n",
    "           low += 1\n",
    "\n",
    "    print (\"Number of Upper case letters \", up)\n",
    "    print (\"Number of Lower case letters \", low)\n",
    "\n",
    "text = input(\"Input text to Calculate no of uppercase and lowecase letter\\t\")\n",
    "\n",
    "print(check(text))"
   ]
  },
  {
   "cell_type": "code",
   "execution_count": 14,
   "metadata": {},
   "outputs": [
    {
     "name": "stdout",
     "output_type": "stream",
     "text": [
      "2\n",
      "4\n",
      "6\n",
      "8\n",
      "None\n"
     ]
    }
   ],
   "source": [
    "def chk(lst):\n",
    "    for i in lst:\n",
    "        if i % 2 == 0:\n",
    "            print(i)\n",
    "            \n",
    "lst = [2,3,4,5,6,7,8,9]\n",
    "print(chk(lst))"
   ]
  },
  {
   "cell_type": "code",
   "execution_count": 18,
   "metadata": {},
   "outputs": [
    {
     "name": "stdout",
     "output_type": "stream",
     "text": [
      "Prime\n"
     ]
    }
   ],
   "source": [
    "def chk(n):\n",
    "    if (n==1):\n",
    "        return \"Not Prime\"\n",
    "    elif (n==2):\n",
    "        return \"Prime\";\n",
    "    else:\n",
    "        for x in range(2,n):\n",
    "            if(n % x==0):\n",
    "                return \"Not Prime\"\n",
    "        return \"Prime\"             \n",
    "print(chk(5))"
   ]
  },
  {
   "cell_type": "code",
   "execution_count": 29,
   "metadata": {},
   "outputs": [
    {
     "name": "stdout",
     "output_type": "stream",
     "text": [
      "Palindrome\n"
     ]
    }
   ],
   "source": [
    "def rev(txt):\n",
    "    return txt[::-1]\n",
    "\n",
    "def palchk(txt):\n",
    "     r = rev(txt)\n",
    "     \n",
    "     if(r == txt):\n",
    "            return \"Palindrome\"\n",
    "     else:\n",
    "            return \"Not Palindrome\"\n",
    "    \n",
    "print(palchk(\"YELLEY\"))"
   ]
  },
  {
   "cell_type": "code",
   "execution_count": 23,
   "metadata": {},
   "outputs": [
    {
     "name": "stdout",
     "output_type": "stream",
     "text": [
      "bread\n",
      "milk\n",
      "chocolate\n",
      "Candy\n"
     ]
    }
   ],
   "source": [
    "def shoplist(*items):\n",
    "    for i in items:\n",
    "        print(i)\n",
    "shoplist(\"bread\", \"milk\", \"chocolate\", \"Candy\")"
   ]
  },
  {
   "cell_type": "code",
   "execution_count": null,
   "metadata": {},
   "outputs": [],
   "source": []
  }
 ],
 "metadata": {
  "kernelspec": {
   "display_name": "Python 3",
   "language": "python",
   "name": "python3"
  },
  "language_info": {
   "codemirror_mode": {
    "name": "ipython",
    "version": 3
   },
   "file_extension": ".py",
   "mimetype": "text/x-python",
   "name": "python",
   "nbconvert_exporter": "python",
   "pygments_lexer": "ipython3",
   "version": "3.7.4"
  }
 },
 "nbformat": 4,
 "nbformat_minor": 2
}
